{
 "cells": [
  {
   "cell_type": "code",
   "execution_count": 1,
   "metadata": {},
   "outputs": [],
   "source": [
    "## Code 1 : Packages download. All packages are not essential for the cross-validation but I used them for the recommender system.\n",
    "import pandas as pd\n",
    "import numpy as np\n",
    "from numpy import save\n",
    "from numpy import load\n",
    "import math\n",
    "import matplotlib\n",
    "import statistics\n",
    "\n",
    "from scipy import sparse\n",
    "from scipy.stats import uniform\n",
    "from IPython.display import Latex\n",
    "import collections\n",
    "from operator import itemgetter\n",
    "\n",
    "import sklearn\n",
    "from scipy import spatial\n",
    "from sklearn.metrics import pairwise_distances\n",
    "from scipy.spatial.distance import cosine, correlation"
   ]
  },
  {
   "cell_type": "code",
   "execution_count": null,
   "metadata": {},
   "outputs": [],
   "source": [
    "####### Code 6 : Split of full datas into folds\n",
    "\n",
    "mix_full_data = full_data.sample(frac=1).reset_index(drop=True)\n",
    "\n",
    "## We have to divide the datas in separate folds. It is usually separate into 5 or 10 folds. It depends on the size of the initial data and the computer's capability.\n",
    "    \n",
    "if mix_full_data.shape[0] ==100004:\n",
    "    print(\"You chose MovieLens!\")\n",
    "    choix=1\n",
    "    dataset1= mix_full_data.iloc[0:20000,:]\n",
    "    dataset2= mix_full_data.iloc[20000:40001,:] # ajoute 1 à partir de ce fold\n",
    "    dataset3= mix_full_data.iloc[40001:60002,:]\n",
    "    dataset4= mix_full_data.iloc[60002:80003,:]\n",
    "    dataset5= mix_full_data.iloc[80003:100004,:]\n",
    "\n",
    "elif  mix_full_data.shape[0] ==106489 :\n",
    "    print(\"You chose Jester!\")\n",
    "    choix=2\n",
    "    dataset1= mix_full_data.iloc[0:21297,:]\n",
    "    dataset2= mix_full_data.iloc[21298:42596,:] # ajoute 1 à partir de ce fold\n",
    "    dataset3= mix_full_data.iloc[42597:63895,:]\n",
    "    dataset4= mix_full_data.iloc[63896:85194,:]\n",
    "    dataset5= mix_full_data.iloc[85191:106489,:]"
   ]
  },
  {
   "cell_type": "code",
   "execution_count": 2,
   "metadata": {},
   "outputs": [],
   "source": [
    "####### Code 7a : Création du trainset\n",
    "def Choose_trainset(z):\n",
    "    trainset=0\n",
    "    if z==1:\n",
    "        trainset=dataset1.append(dataset2).append(dataset3).append(dataset4)\n",
    "    # So if the input of the Choose_trainset fucntion is 1, the trainset will be made up of fold 1+fold 2+fold 3+ fold 4. Fold 5 will be the testset\n",
    "    elif z==2:\n",
    "        trainset=dataset2.append(dataset3).append(dataset4).append(dataset5)\n",
    "    elif z==3:\n",
    "        trainset=dataset3.append(dataset4).append(dataset5).append(dataset1)\n",
    "    elif z==4:\n",
    "        trainset=dataset4.append(dataset5).append(dataset1).append(dataset2)\n",
    "    elif z==5:\n",
    "        trainset=dataset5.append(dataset1).append(dataset2).append(dataset3)\n",
    "    return trainset"
   ]
  },
  {
   "cell_type": "code",
   "execution_count": 3,
   "metadata": {},
   "outputs": [],
   "source": [
    "def Choose_testset(z):\n",
    "    testset=0\n",
    "    if z==1:\n",
    "        testset=dataset5\n",
    "        #fold 5 is the testset\n",
    "    elif z==2:\n",
    "        testset=dataset1\n",
    "    elif z==3:\n",
    "        testset=dataset2\n",
    "    elif z==4:\n",
    "        testset=dataset3\n",
    "    elif z==5:\n",
    "        testset=dataset4\n",
    "    return testset"
   ]
  },
  {
   "cell_type": "code",
   "execution_count": null,
   "metadata": {},
   "outputs": [],
   "source": [
    "folds=[1,2,3,4,5]\n",
    "\n",
    "for z in folds:\n",
    "    print(\"----\")\n",
    "    print(\"Chargement de la cross-validation n° \"+str(z))\n",
    "    \n",
    "    trainset=Choose_trainset(z) \n",
    "    testset=Choose_testset(z)\n",
    "    # Then you make your own calculation based on the trainset and then the testset\n",
    "    trainset=Add_squareratingCol(trainset)\n",
    "    mean=Mean_rating(trainset)\n",
    "    mean_users=Mean_user(trainset)\n",
    "    mean_items=Mean_item(trainset)\n",
    "    #..."
   ]
  }
 ],
 "metadata": {
  "kernelspec": {
   "display_name": "Python 3",
   "language": "python",
   "name": "python3"
  },
  "language_info": {
   "codemirror_mode": {
    "name": "ipython",
    "version": 3
   },
   "file_extension": ".py",
   "mimetype": "text/x-python",
   "name": "python",
   "nbconvert_exporter": "python",
   "pygments_lexer": "ipython3",
   "version": "3.7.6"
  }
 },
 "nbformat": 4,
 "nbformat_minor": 4
}
